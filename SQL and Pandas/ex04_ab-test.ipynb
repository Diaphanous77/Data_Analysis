{
 "cells": [
  {
   "cell_type": "code",
   "execution_count": 1,
   "metadata": {},
   "outputs": [],
   "source": [
    "import pandas as pd\n",
    "import sqlite3"
   ]
  },
  {
   "cell_type": "markdown",
   "metadata": {},
   "source": [
    "## Создаем подключение к базе данных"
   ]
  },
  {
   "cell_type": "code",
   "execution_count": 2,
   "metadata": {},
   "outputs": [],
   "source": [
    "connection = sqlite3.connect('data/checking-logs.sqlite')"
   ]
  },
  {
   "cell_type": "markdown",
   "metadata": {},
   "source": [
    "## Создайте два фрейма данных: test_results и control_results со столбцами time и avg_diff и только двумя строками\n",
    "- время должно иметь значения: after и before\n",
    "- avg_diff содержит среднюю дельту среди всех пользователей за период времени до того, как каждый из них совершил свой первый визит на страницу, и после этого\n",
    "- учитывать только тех пользователей, у которых есть наблюдения до и после"
   ]
  },
  {
   "cell_type": "code",
   "execution_count": 3,
   "metadata": {},
   "outputs": [
    {
     "data": {
      "text/html": [
       "<div>\n",
       "<style scoped>\n",
       "    .dataframe tbody tr th:only-of-type {\n",
       "        vertical-align: middle;\n",
       "    }\n",
       "\n",
       "    .dataframe tbody tr th {\n",
       "        vertical-align: top;\n",
       "    }\n",
       "\n",
       "    .dataframe thead th {\n",
       "        text-align: right;\n",
       "    }\n",
       "</style>\n",
       "<table border=\"1\" class=\"dataframe\">\n",
       "  <thead>\n",
       "    <tr style=\"text-align: right;\">\n",
       "      <th></th>\n",
       "      <th>time</th>\n",
       "      <th>avg_diff</th>\n",
       "    </tr>\n",
       "  </thead>\n",
       "  <tbody>\n",
       "    <tr>\n",
       "      <th>0</th>\n",
       "      <td>after</td>\n",
       "      <td>14.263309</td>\n",
       "    </tr>\n",
       "    <tr>\n",
       "      <th>1</th>\n",
       "      <td>before</td>\n",
       "      <td>4.384062</td>\n",
       "    </tr>\n",
       "  </tbody>\n",
       "</table>\n",
       "</div>"
      ],
      "text/plain": [
       "     time   avg_diff\n",
       "0   after  14.263309\n",
       "1  before   4.384062"
      ]
     },
     "execution_count": 3,
     "metadata": {},
     "output_type": "execute_result"
    }
   ],
   "source": [
    "query_test = '''\n",
    "SELECT \n",
    "    'after' AS time,\n",
    "    AVG(CAST((julianday(first_commit_ts) - julianday(first_view_ts)) AS REAL)) AS avg_diff\n",
    "FROM test\n",
    "WHERE first_commit_ts IS NOT NULL AND first_view_ts IS NOT NULL\n",
    "    AND julianday(first_commit_ts) > julianday(first_view_ts)\n",
    "UNION ALL\n",
    "SELECT \n",
    "    'before' AS time,\n",
    "    AVG(CAST((julianday(first_view_ts) - julianday(first_commit_ts)) AS REAL)) AS avg_diff\n",
    "FROM test\n",
    "WHERE first_commit_ts IS NOT NULL AND first_view_ts IS NOT NULL\n",
    "    AND julianday(first_view_ts) > julianday(first_commit_ts);\n",
    "'''\n",
    "\n",
    "test_results = pd.io.sql.read_sql(query_test, connection)\n",
    "\n",
    "query_control = '''\n",
    "SELECT \n",
    "    'after' AS time,\n",
    "    AVG(CAST((julianday(first_commit_ts) - julianday(first_view_ts)) AS REAL)) AS avg_diff\n",
    "FROM control\n",
    "WHERE first_commit_ts IS NOT NULL AND first_view_ts IS NOT NULL\n",
    "  AND julianday(first_commit_ts) > julianday(first_view_ts)\n",
    "UNION ALL\n",
    "SELECT \n",
    "    'before' AS time,\n",
    "    AVG(CAST((julianday(first_view_ts) - julianday(first_commit_ts)) AS REAL)) AS avg_diff\n",
    "FROM control\n",
    "WHERE first_commit_ts IS NOT NULL AND first_view_ts IS NOT NULL\n",
    "  AND julianday(first_view_ts) > julianday(first_commit_ts);\n",
    "'''\n",
    "\n",
    "control_results = pd.io.sql.read_sql(query_control, connection)\n",
    "control_results"
   ]
  },
  {
   "cell_type": "markdown",
   "metadata": {},
   "source": [
    "## Закрыть соединение"
   ]
  },
  {
   "cell_type": "code",
   "execution_count": 4,
   "metadata": {},
   "outputs": [],
   "source": [
    "connection.close()"
   ]
  },
  {
   "cell_type": "markdown",
   "metadata": {},
   "source": [
    "гипотеза оказалась верной и страница действительно влияет на поведение студентов?"
   ]
  },
  {
   "cell_type": "code",
   "execution_count": 5,
   "metadata": {},
   "outputs": [
    {
     "name": "stdout",
     "output_type": "stream",
     "text": [
      "Test Results:\n",
      "     time   avg_diff\n",
      "0   after  14.509470\n",
      "1  before   6.498336\n",
      "\n",
      "Control Results:\n",
      "     time   avg_diff\n",
      "0   after  14.263309\n",
      "1  before   4.384062\n",
      "\n",
      "Гипотеза подтвердилась: страница действительно влияет на поведение студентов.\n"
     ]
    }
   ],
   "source": [
    "print('Test Results:')\n",
    "print(test_results)\n",
    "\n",
    "print('\\nControl Results:')\n",
    "print(control_results)\n",
    "\n",
    "if test_results.loc[\n",
    "    test_results['time'] == 'after', 'avg_diff'\n",
    "    ].values[0] > test_results.loc[\n",
    "        test_results['time'] == 'before', 'avg_diff'\n",
    "        ].values[0]:\n",
    "    print('\\nГипотеза подтвердилась: страница действительно влияет на поведение студентов.')\n",
    "else:\n",
    "    print('\\nГипотеза не подтвердилась: страница не влияет на поведение студентов.')"
   ]
  }
 ],
 "metadata": {
  "kernelspec": {
   "display_name": "Python 3",
   "language": "python",
   "name": "python3"
  },
  "language_info": {
   "codemirror_mode": {
    "name": "ipython",
    "version": 3
   },
   "file_extension": ".py",
   "mimetype": "text/x-python",
   "name": "python",
   "nbconvert_exporter": "python",
   "pygments_lexer": "ipython3",
   "version": "3.13.1"
  }
 },
 "nbformat": 4,
 "nbformat_minor": 2
}
