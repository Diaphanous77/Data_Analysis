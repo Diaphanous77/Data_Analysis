{
 "cells": [
  {
   "cell_type": "code",
   "execution_count": 1,
   "metadata": {},
   "outputs": [],
   "source": [
    "import pandas as pd"
   ]
  },
  {
   "cell_type": "markdown",
   "metadata": {},
   "source": [
    "Загрузите и прочитайте CSV-файл и сделайте ID индексным столбцом"
   ]
  },
  {
   "cell_type": "code",
   "execution_count": 2,
   "metadata": {},
   "outputs": [],
   "source": [
    "df = pd.read_csv(\n",
    "    'data/auto.csv',\n",
    "    index_col='ID'\n",
    ")"
   ]
  },
  {
   "cell_type": "markdown",
   "metadata": {},
   "source": [
    "Подсчитать количество наблюдений с помощью метода count()"
   ]
  },
  {
   "cell_type": "code",
   "execution_count": 3,
   "metadata": {},
   "outputs": [
    {
     "name": "stdout",
     "output_type": "stream",
     "text": [
      "Всего наблюдений:\n",
      "CarNumber       931\n",
      "Make_n_model    931\n",
      "Refund          914\n",
      "Fines           869\n",
      "History          82\n",
      "dtype: int64\n"
     ]
    }
   ],
   "source": [
    "all_observations = df.count()\n",
    "print(f'Всего наблюдений:\\n{all_observations}')"
   ]
  },
  {
   "cell_type": "markdown",
   "metadata": {},
   "source": [
    "Удалить дубликаты, принимая во внимание только следующие столбцы: CarNumber, Make_n_model, Fines из двух равных наблюдений нужно выбрать последнее"
   ]
  },
  {
   "cell_type": "code",
   "execution_count": 4,
   "metadata": {},
   "outputs": [
    {
     "data": {
      "text/plain": [
       "CarNumber       725\n",
       "Make_n_model    725\n",
       "Refund          713\n",
       "Fines           665\n",
       "History          65\n",
       "dtype: int64"
      ]
     },
     "execution_count": 4,
     "metadata": {},
     "output_type": "execute_result"
    }
   ],
   "source": [
    "data_unique = df.drop_duplicates(subset=['CarNumber', 'Make_n_model', 'Fines'], keep='last')\n",
    "data_unique.count()"
   ]
  },
  {
   "cell_type": "markdown",
   "metadata": {},
   "source": [
    "Работа с пропущенными значениями\n",
    "- проверьте, сколько значений отсутствует в каждом столбце"
   ]
  },
  {
   "cell_type": "code",
   "execution_count": 5,
   "metadata": {},
   "outputs": [
    {
     "data": {
      "text/plain": [
       "CarNumber         0\n",
       "Make_n_model      0\n",
       "Refund           12\n",
       "Fines            60\n",
       "History         660\n",
       "dtype: int64"
      ]
     },
     "execution_count": 5,
     "metadata": {},
     "output_type": "execute_result"
    }
   ],
   "source": [
    "data_unique.isnull().sum()"
   ]
  },
  {
   "cell_type": "markdown",
   "metadata": {},
   "source": [
    "удалите все столбцы с более чем 500 пропущенными значениями, используя аргумент thresh, проверьте, сколько пропущенных значений в каждом столбце"
   ]
  },
  {
   "cell_type": "code",
   "execution_count": 6,
   "metadata": {},
   "outputs": [
    {
     "data": {
      "text/plain": [
       "CarNumber        0\n",
       "Make_n_model     0\n",
       "Refund          12\n",
       "Fines           60\n",
       "dtype: int64"
      ]
     },
     "execution_count": 6,
     "metadata": {},
     "output_type": "execute_result"
    }
   ],
   "source": [
    "cleaned_data = data_unique.dropna(axis=1, thresh=len(data_unique)-500)\n",
    "missing_values_after_delete = cleaned_data.isnull().sum()\n",
    "missing_values_after_delete"
   ]
  },
  {
   "cell_type": "markdown",
   "metadata": {},
   "source": [
    "замените все отсутствующие значения в столбце «Возврат» предыдущим значением в этом столбце для этой ячейки, используйте метод аргумента, проверьте, сколько значений отсутствует в каждом столбце"
   ]
  },
  {
   "cell_type": "code",
   "execution_count": 7,
   "metadata": {},
   "outputs": [
    {
     "data": {
      "text/plain": [
       "CarNumber        0\n",
       "Make_n_model     0\n",
       "Refund           0\n",
       "Fines           60\n",
       "dtype: int64"
      ]
     },
     "execution_count": 7,
     "metadata": {},
     "output_type": "execute_result"
    }
   ],
   "source": [
    "cleaned_data.loc[:, 'Refund'] = cleaned_data['Refund'].ffill()\n",
    "missing_values_after_refund = cleaned_data.isnull().sum()\n",
    "missing_values_after_refund"
   ]
  },
  {
   "cell_type": "markdown",
   "metadata": {},
   "source": [
    "замените все пропущенные значения в столбце «Штрафы» средним значением этого столбца (исключите значения NA/NULL при вычислении среднего значения), проверьте, сколько значений пропущено в каждом столбце"
   ]
  },
  {
   "cell_type": "code",
   "execution_count": 8,
   "metadata": {},
   "outputs": [
    {
     "data": {
      "text/plain": [
       "CarNumber       0\n",
       "Make_n_model    0\n",
       "Refund          0\n",
       "Fines           0\n",
       "dtype: int64"
      ]
     },
     "execution_count": 8,
     "metadata": {},
     "output_type": "execute_result"
    }
   ],
   "source": [
    "fines_mean = cleaned_data['Fines'].mean()\n",
    "cleaned_data.loc[:, 'Fines'] = cleaned_data['Fines'].fillna(fines_mean)\n",
    "missing_values_after_fines = cleaned_data.isnull().sum()\n",
    "missing_values_after_fines"
   ]
  },
  {
   "cell_type": "markdown",
   "metadata": {},
   "source": [
    "Разделите и проанализируйте марку и модель\n",
    "- удалить столбец Make_n_model\n",
    "- сохраните фрейм данных в JSON-файле auto.json"
   ]
  },
  {
   "cell_type": "code",
   "execution_count": 9,
   "metadata": {},
   "outputs": [],
   "source": [
    "cleaned_data[['Make', 'Model']] = cleaned_data['Make_n_model'].str.split(' ', expand=True)\n",
    "cleaned_data = cleaned_data.drop(columns=['Make_n_model'])\n",
    "cleaned_data.to_json('data/auto.json', orient='records', lines=False)"
   ]
  }
 ],
 "metadata": {
  "kernelspec": {
   "display_name": "Python 3",
   "language": "python",
   "name": "python3"
  },
  "language_info": {
   "codemirror_mode": {
    "name": "ipython",
    "version": 3
   },
   "file_extension": ".py",
   "mimetype": "text/x-python",
   "name": "python",
   "nbconvert_exporter": "python",
   "pygments_lexer": "ipython3",
   "version": "3.13.1"
  }
 },
 "nbformat": 4,
 "nbformat_minor": 2
}
