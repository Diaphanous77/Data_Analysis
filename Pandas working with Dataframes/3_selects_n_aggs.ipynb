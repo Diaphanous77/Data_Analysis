{
 "cells": [
  {
   "cell_type": "code",
   "execution_count": 3,
   "metadata": {},
   "outputs": [],
   "source": [
    "import pandas as pd"
   ]
  },
  {
   "cell_type": "markdown",
   "metadata": {},
   "source": [
    "Загрузите файл auto.json\n",
    "- установить CarNumber в качестве индексного столбца"
   ]
  },
  {
   "cell_type": "code",
   "execution_count": 4,
   "metadata": {},
   "outputs": [],
   "source": [
    "df = pd.read_json('data/auto.json')\n",
    "df.set_index('CarNumber', inplace=True)"
   ]
  },
  {
   "cell_type": "markdown",
   "metadata": {},
   "source": [
    "Cделайте выбор\n",
    "- отображать только те строки, где штрафы превышают 2100"
   ]
  },
  {
   "cell_type": "code",
   "execution_count": 5,
   "metadata": {},
   "outputs": [
    {
     "name": "stdout",
     "output_type": "stream",
     "text": [
      "Штрафы больше 2100:\n",
      "              Refund         Fines        Make    Model\n",
      "CarNumber                                              \n",
      "Y163O8161RUS       2   3200.000000        Ford    Focus\n",
      "E432XX77RUS        1   6500.000000      Toyota    Camry\n",
      "92918M178RUS       1   5700.000000        Ford    Focus\n",
      "H234YH197RUS       2   6000.000000        Ford    Focus\n",
      "E40577152RUS       1   8594.586466        Ford    Focus\n",
      "...              ...           ...         ...      ...\n",
      "O718MM163RUS       2   8594.586466        Ford    Focus\n",
      "7065C8197RUS       2  11400.000000  Volkswagen   Passat\n",
      "O22097197RUS       1  24300.000000        Ford    Focus\n",
      "M0309X197RUS       1  22300.000000        Ford    Focus\n",
      "H419XE197RUS       2   8594.586466      Toyota  Corolla\n",
      "\n",
      "[455 rows x 4 columns]\n"
     ]
    }
   ],
   "source": [
    "fines_more_2100 = df[df['Fines'] > 2100]\n",
    "print(f'Штрафы больше 2100:\\n{fines_more_2100}')"
   ]
  },
  {
   "cell_type": "markdown",
   "metadata": {},
   "source": [
    "отображать только те строки, где штрафы больше 2100, а возврат равен 2"
   ]
  },
  {
   "cell_type": "code",
   "execution_count": 6,
   "metadata": {},
   "outputs": [
    {
     "name": "stdout",
     "output_type": "stream",
     "text": [
      "Штрафы больше 2100 и возврат равен 2:\n",
      "               Refund         Fines        Make    Model\n",
      "CarNumber                                              \n",
      "Y163O8161RUS       2   3200.000000        Ford    Focus\n",
      "H234YH197RUS       2   6000.000000        Ford    Focus\n",
      "707987163RUS       2   2200.000000        Ford    Focus\n",
      "K330T8197RUS       2   8200.000000       Skoda  Octavia\n",
      "M592CH197RUS       2   8594.586466       Skoda  Octavia\n",
      "...              ...           ...         ...      ...\n",
      "O136HO197RUS       2   7800.000000      Toyota  Corolla\n",
      "O68897197RUS       2  12300.000000        Ford    Focus\n",
      "O718MM163RUS       2   8594.586466        Ford    Focus\n",
      "7065C8197RUS       2  11400.000000  Volkswagen   Passat\n",
      "H419XE197RUS       2   8594.586466      Toyota  Corolla\n",
      "\n",
      "[309 rows x 4 columns]\n"
     ]
    }
   ],
   "source": [
    "fines_and_refund = fines_more_2100[fines_more_2100['Refund'] == 2]\n",
    "print(f'Штрафы больше 2100 и возврат равен 2:\\n {fines_and_refund}')"
   ]
  },
  {
   "cell_type": "markdown",
   "metadata": {},
   "source": [
    "отображать только те строки, где есть модели из списка: [’Focus’, ’Corolla’]"
   ]
  },
  {
   "cell_type": "code",
   "execution_count": 7,
   "metadata": {},
   "outputs": [
    {
     "name": "stdout",
     "output_type": "stream",
     "text": [
      "Результаты только для Focus и Corolla:\n",
      "               Refund         Fines    Make    Model\n",
      "CarNumber                                          \n",
      "Y163O8161RUS       2   3200.000000    Ford    Focus\n",
      "7184TT36RUS        1   2100.000000    Ford    Focus\n",
      "X582HE161RUS       2   2000.000000    Ford    Focus\n",
      "92918M178RUS       1   5700.000000    Ford    Focus\n",
      "H234YH197RUS       2   6000.000000    Ford    Focus\n",
      "...              ...           ...     ...      ...\n",
      "Y163O8161RUS       2   1600.000000    Ford    Focus\n",
      "M0309X197RUS       1  22300.000000    Ford    Focus\n",
      "O673E8197RUS       2    600.000000    Ford    Focus\n",
      "8610T8154RUS       1   2000.000000    Ford    Focus\n",
      "H419XE197RUS       2   8594.586466  Toyota  Corolla\n",
      "\n",
      "[593 rows x 4 columns]\n"
     ]
    }
   ],
   "source": [
    "models_in_list = df[df['Model'].isin(['Focus', 'Corolla'])]\n",
    "print(f'Результаты только для Focus и Corolla:\\n {models_in_list}')"
   ]
  },
  {
   "cell_type": "markdown",
   "metadata": {},
   "source": [
    "отображать только те строки, где номер автомобиля есть из списка:\n",
    "[’Y7689C197RUS’, ’92928M178RUS’, ’7788KT197RUS’, ’H115YO163RUS’, ’X758HY197RUS’]"
   ]
  },
  {
   "cell_type": "code",
   "execution_count": 8,
   "metadata": {},
   "outputs": [
    {
     "name": "stdout",
     "output_type": "stream",
     "text": [
      "Только те результаты, где номер машины из списка:\n",
      "[\"Y7689C197RUS\", \"92928M178RUS\", \"7788KT197RUS\", \"H115YO163RUS\", \"X758HY197RUS\"]:\n",
      "               Refund          Fines  Make  Model\n",
      "CarNumber                                       \n",
      "92928M178RUS       1    8594.586466  Ford  Focus\n",
      "H115YO163RUS       1    2200.000000  Ford  Focus\n",
      "7788KT197RUS       2   12000.000000  Ford  Focus\n",
      "X758HY197RUS       2   24200.000000  Ford  Focus\n",
      "X758HY197RUS       2   72600.000000  Ford  Focus\n",
      "Y7689C197RUS       1   27000.000000  Ford  Focus\n",
      "92928M178RUS       1     600.000000  Ford  Focus\n",
      "H115YO163RUS       1    8594.586466  Ford  Focus\n",
      "H115YO163RUS       2    1100.000000  Ford  Focus\n",
      "7788KT197RUS       2    8594.586466  Ford  Focus\n",
      "7788KT197RUS       1   20000.000000  Ford  Focus\n",
      "X758HY197RUS       2  145200.000000  Ford  Focus\n",
      "92928M178RUS       1    1200.000000  Ford  Focus\n",
      "Y7689C197RUS       2    9000.000000  Ford  Focus\n",
      "Y7689C197RUS       2   45000.000000  Ford  Focus\n",
      "7788KT197RUS       2    4000.000000  Ford  Focus\n",
      "Y7689C197RUS       1   36000.000000  Ford  Focus\n",
      "92928M178RUS       2    3000.000000  Ford  Focus\n"
     ]
    }
   ],
   "source": [
    "car_numbers_in_list = df[\n",
    "    df.index.isin(\n",
    "        ['Y7689C197RUS', '92928M178RUS', '7788KT197RUS', 'H115YO163RUS', 'X758HY197RUS']\n",
    "        )\n",
    "    ]\n",
    "print(f'Только те результаты, где номер машины из списка:\\n[\"Y7689C197RUS\", \"92928M178RUS\", \"7788KT197RUS\", \"H115YO163RUS\", \"X758HY197RUS\"]:\\n {car_numbers_in_list}')"
   ]
  },
  {
   "cell_type": "markdown",
   "metadata": {},
   "source": [
    "Cделать агрегации с маркой и моделью\n",
    "- отобразить средние штрафы, сгруппированные по маркам"
   ]
  },
  {
   "cell_type": "code",
   "execution_count": 9,
   "metadata": {},
   "outputs": [
    {
     "name": "stdout",
     "output_type": "stream",
     "text": [
      "Средние штрафы, сгруппированные по марке:\n",
      " Make\n",
      "Audi          4200.0\n",
      "BMW           6500.0\n",
      "Ford          3500.0\n",
      "Skoda         3250.0\n",
      "Toyota        7700.0\n",
      "Volkswagen    4300.0\n",
      "Volvo         8500.0\n",
      "Name: Fines, dtype: float64\n"
     ]
    }
   ],
   "source": [
    "median_fines_by_make = df.groupby('Make')['Fines'].median()\n",
    "print(f'Средние штрафы, сгруппированные по марке:\\n {median_fines_by_make}')"
   ]
  },
  {
   "cell_type": "markdown",
   "metadata": {},
   "source": [
    "отобразить средние штрафы, сгруппированные по марке и модели"
   ]
  },
  {
   "cell_type": "code",
   "execution_count": 10,
   "metadata": {},
   "outputs": [
    {
     "name": "stdout",
     "output_type": "stream",
     "text": [
      "Средние штрафы, сгруппированные по марке и модели:\n",
      " Make        Model  \n",
      "Ford        Focus      3500.0\n",
      "            Mondeo     7650.0\n",
      "Skoda       Octavia    3250.0\n",
      "Toyota      Camry      7700.0\n",
      "            Corolla    7700.0\n",
      "Volkswagen  Golf       4800.0\n",
      "            Jetta      2800.0\n",
      "            Passat     3500.0\n",
      "            Touareg    5800.0\n",
      "Name: Fines, dtype: float64\n"
     ]
    }
   ],
   "source": [
    "median_fines_by_make_model = df.groupby(['Make', 'Model'])['Fines'].median()\n",
    "print(f'Средние штрафы, сгруппированные по марке и модели:\\n {median_fines_by_make_model}')"
   ]
  },
  {
   "cell_type": "markdown",
   "metadata": {},
   "source": [
    "отобразить количество штрафов, сгруппированных по марке и модели"
   ]
  },
  {
   "cell_type": "code",
   "execution_count": 11,
   "metadata": {},
   "outputs": [
    {
     "name": "stdout",
     "output_type": "stream",
     "text": [
      "Количество штрафов, сгруппированных по марке и модели:\n",
      " Make        Model  \n",
      "Ford        Focus      575\n",
      "            Mondeo       6\n",
      "Skoda       Octavia     48\n",
      "Toyota      Camry       16\n",
      "            Corolla     18\n",
      "Volkswagen  Golf        20\n",
      "            Jetta        6\n",
      "            Passat      22\n",
      "            Touareg      5\n",
      "Name: Fines, dtype: int64\n"
     ]
    }
   ],
   "source": [
    "count_fines_by_make_model = df.groupby(['Make', 'Model'])['Fines'].count()\n",
    "print(f'Количество штрафов, сгруппированных по марке и модели:\\n {count_fines_by_make_model}')"
   ]
  },
  {
   "cell_type": "markdown",
   "metadata": {},
   "source": [
    "отображать минимальные и максимальные штрафы, сгруппированные по марке и модели"
   ]
  },
  {
   "cell_type": "code",
   "execution_count": 12,
   "metadata": {},
   "outputs": [
    {
     "name": "stdout",
     "output_type": "stream",
     "text": [
      "Минимальные и максимальные штрафы, сгруппированные по марке и модели:\n",
      "                        min            max\n",
      "Make       Model                         \n",
      "Ford       Focus     100.0  180000.000000\n",
      "           Mondeo   1100.0   46200.000000\n",
      "Skoda      Octavia   300.0  145000.000000\n",
      "Toyota     Camry     500.0   22400.000000\n",
      "           Corolla   900.0   34300.000000\n",
      "Volkswagen Golf      200.0  168000.000000\n",
      "           Jetta     500.0   46000.000000\n",
      "           Passat    100.0   29700.000000\n",
      "           Touareg   500.0    8594.586466\n"
     ]
    }
   ],
   "source": [
    "min_max_fines_by_make_model = df.groupby(['Make', 'Model'])['Fines'].agg(['min', 'max'])\n",
    "print(f'Минимальные и максимальные штрафы, сгруппированные по марке и модели:\\n {min_max_fines_by_make_model}')"
   ]
  },
  {
   "cell_type": "markdown",
   "metadata": {},
   "source": [
    "отображать стандартное отклонение штрафов, сгруппированных по марке и модели"
   ]
  },
  {
   "cell_type": "code",
   "execution_count": 13,
   "metadata": {},
   "outputs": [
    {
     "name": "stdout",
     "output_type": "stream",
     "text": [
      "Стандартное отклонение штрафов, сгруппированных по марке и модели:\n",
      " Make        Model  \n",
      "Ford        Focus      15041.269437\n",
      "            Mondeo     18987.329108\n",
      "Skoda       Octavia    24339.742174\n",
      "Toyota      Camry       6410.250654\n",
      "            Corolla     9629.325617\n",
      "Volkswagen  Golf       36950.839950\n",
      "            Jetta      17743.026799\n",
      "            Passat      6969.739135\n",
      "            Touareg     3461.778173\n",
      "Name: Fines, dtype: float64\n"
     ]
    }
   ],
   "source": [
    "std_fines_by_make_model = df.groupby(['Make', 'Model'])['Fines'].std()\n",
    "print(f'Стандартное отклонение штрафов, сгруппированных по марке и модели:\\n {std_fines_by_make_model}')"
   ]
  },
  {
   "cell_type": "markdown",
   "metadata": {},
   "source": [
    "Cделать агрегации с номером автомобиля\n",
    "- вывести номера автомобилей, сгруппированные по количеству штрафов в порядке убывания"
   ]
  },
  {
   "cell_type": "code",
   "execution_count": 14,
   "metadata": {},
   "outputs": [
    {
     "name": "stdout",
     "output_type": "stream",
     "text": [
      "Номера автомобилей, сгруппированные по количеству штрафов в порядке убывания:\n",
      " CarNumber\n",
      "7788KT197RUS    4\n",
      "92928M178RUS    4\n",
      "Y7689C197RUS    4\n",
      "7830C8197RUS    3\n",
      "H387TM197RUS    3\n",
      "               ..\n",
      "Y965O8197RUS    1\n",
      "9470EX178RUS    1\n",
      "Y967O8197RUS    1\n",
      "9474EX178RUS    1\n",
      "7064C8197RUS    1\n",
      "Name: Fines, Length: 531, dtype: int64\n"
     ]
    }
   ],
   "source": [
    "violations_by_count = df.groupby(df.index)['Fines'].count().sort_values(ascending=False)\n",
    "print(f'Номера автомобилей, сгруппированные по количеству штрафов в порядке убывания:\\n {violations_by_count}')"
   ]
  },
  {
   "cell_type": "markdown",
   "metadata": {},
   "source": [
    "выберите из исходного фрейма данных все строки, соответствующие первому номеру автомобиля"
   ]
  },
  {
   "cell_type": "code",
   "execution_count": 15,
   "metadata": {},
   "outputs": [
    {
     "name": "stdout",
     "output_type": "stream",
     "text": [
      "Все строки, соответствующие первому номеру автомобиля:\n",
      "               Refund         Fines  Make  Model\n",
      "CarNumber                                      \n",
      "7788KT197RUS       2  12000.000000  Ford  Focus\n",
      "7788KT197RUS       2   8594.586466  Ford  Focus\n",
      "7788KT197RUS       1  20000.000000  Ford  Focus\n",
      "7788KT197RUS       2   4000.000000  Ford  Focus\n"
     ]
    }
   ],
   "source": [
    "first_car_number = violations_by_count.index[0]\n",
    "first_car_rows = df.loc[first_car_number]\n",
    "print(f'Все строки, соответствующие первому номеру автомобиля:\\n {first_car_rows}')"
   ]
  },
  {
   "cell_type": "markdown",
   "metadata": {},
   "source": [
    "вывести номера автомобилей, сгруппированные по сумме штрафов в порядке убывания"
   ]
  },
  {
   "cell_type": "code",
   "execution_count": 16,
   "metadata": {},
   "outputs": [
    {
     "name": "stdout",
     "output_type": "stream",
     "text": [
      "Номера автомобилей, сгруппированные по сумме штрафов в порядке убывания:\n",
      " CarNumber\n",
      "X758HY197RUS    242000.0\n",
      "9020YC197RUS    217500.0\n",
      "M0279X197RUS    216000.0\n",
      "Y352O8197RUS    207200.0\n",
      "Y778EE197RUS    192000.0\n",
      "                  ...   \n",
      "Y195O8161RUS       100.0\n",
      "C58078163RUS       100.0\n",
      "K326T8197RUS       100.0\n",
      "K376HE161RUS       100.0\n",
      "83218C154RUS       100.0\n",
      "Name: Fines, Length: 531, dtype: float64\n"
     ]
    }
   ],
   "source": [
    "violations_by_total_fines = df.groupby(df.index)['Fines'].sum().sort_values(ascending=False)\n",
    "print(f'Номера автомобилей, сгруппированные по сумме штрафов в порядке убывания:\\n {violations_by_total_fines}')"
   ]
  },
  {
   "cell_type": "markdown",
   "metadata": {},
   "source": [
    "выберите из исходного фрейма данных все строки, соответствующие первому номеру автомобиля"
   ]
  },
  {
   "cell_type": "code",
   "execution_count": 17,
   "metadata": {},
   "outputs": [
    {
     "name": "stdout",
     "output_type": "stream",
     "text": [
      "Строки, соответствующие первому номеру автомобиля:\n",
      "               Refund     Fines  Make  Model\n",
      "CarNumber                                  \n",
      "X758HY197RUS       2   24200.0  Ford  Focus\n",
      "X758HY197RUS       2   72600.0  Ford  Focus\n",
      "X758HY197RUS       2  145200.0  Ford  Focus\n"
     ]
    }
   ],
   "source": [
    "first_car_number_fines = violations_by_total_fines.index[0]\n",
    "first_car_rows_fines = df.loc[first_car_number_fines]\n",
    "print(f'Строки, соответствующие первому номеру автомобиля:\\n {first_car_rows_fines}')"
   ]
  },
  {
   "cell_type": "markdown",
   "metadata": {},
   "source": [
    "отобразить таблицу, которая отвечает на вопрос: есть ли номера автомобилей, которые были связаны с разными моделями?"
   ]
  },
  {
   "cell_type": "code",
   "execution_count": 18,
   "metadata": {},
   "outputs": [
    {
     "name": "stdout",
     "output_type": "stream",
     "text": [
      "Есть ли номера автомобилей, которые были связаны с разными моделями?:\n",
      " Series([], Name: Model, dtype: int64)\n"
     ]
    }
   ],
   "source": [
    "car_models_variation = df.groupby(df.index)['Model'].nunique()\n",
    "multiple_models = car_models_variation[car_models_variation > 1]\n",
    "print(f'Есть ли номера автомобилей, которые были связаны с разными моделями?:\\n {multiple_models}')"
   ]
  }
 ],
 "metadata": {
  "kernelspec": {
   "display_name": "Python 3",
   "language": "python",
   "name": "python3"
  },
  "language_info": {
   "codemirror_mode": {
    "name": "ipython",
    "version": 3
   },
   "file_extension": ".py",
   "mimetype": "text/x-python",
   "name": "python",
   "nbconvert_exporter": "python",
   "pygments_lexer": "ipython3",
   "version": "3.13.1"
  }
 },
 "nbformat": 4,
 "nbformat_minor": 2
}
