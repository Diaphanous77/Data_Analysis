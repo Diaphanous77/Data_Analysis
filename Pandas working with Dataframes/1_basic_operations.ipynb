{
 "cells": [
  {
   "cell_type": "code",
   "execution_count": 1,
   "metadata": {},
   "outputs": [],
   "source": [
    "import pandas as pd"
   ]
  },
  {
   "cell_type": "markdown",
   "metadata": {},
   "source": [
    "Cоздайте представления dataframe с двумя столбцами: datetime и user, прочитав feed-views.log\n",
    "- преобразовать дату и время в тип datetime64[ns]\n",
    "- извлечь год, месяц, день, час, минуту и ​​секунду из значений этого столбца в новые столбцы"
   ]
  },
  {
   "cell_type": "code",
   "execution_count": 2,
   "metadata": {},
   "outputs": [
    {
     "name": "stdout",
     "output_type": "stream",
     "text": [
      "                              user  year  month  day  hour  minute  second\n",
      "datetime                                                                  \n",
      "2020-04-17 12:01:08.463179   artem  2020      4   17    12       1       8\n",
      "2020-04-17 12:01:23.743946   artem  2020      4   17    12       1      23\n",
      "2020-04-17 12:35:52.735016   artem  2020      4   17    12      35      52\n",
      "2020-04-17 12:36:21.401412  oksana  2020      4   17    12      36      21\n",
      "2020-04-17 12:36:22.023355  oksana  2020      4   17    12      36      22\n",
      "\n",
      "                                 user  year  month  day  hour  minute  second\n",
      "datetime                                                                     \n",
      "2020-05-21 16:36:40.915488  ekaterina  2020      5   21    16      36      40\n",
      "2020-05-21 17:49:36.429237      maxim  2020      5   21    17      49      36\n",
      "2020-05-21 18:45:20.441142  valentina  2020      5   21    18      45      20\n",
      "2020-05-21 23:03:06.457819      maxim  2020      5   21    23       3       6\n",
      "2020-05-21 23:23:49.995349      pavel  2020      5   21    23      23      49\n"
     ]
    }
   ],
   "source": [
    "df = pd.read_csv(\n",
    "    'data/feed-views.log',\n",
    "    sep='\\t',\n",
    "    skiprows=[2,3],\n",
    "    skipfooter=2,\n",
    "    names=['datetime','user'],\n",
    "    engine='python',\n",
    ")\n",
    "df['datetime'] = pd.to_datetime(df['datetime'], format='%Y-%m-%d %H:%M:%S.%f')\n",
    "df['year'] = df['datetime'].dt.year\n",
    "df['month'] = df['datetime'].dt.month\n",
    "df['day'] = df['datetime'].dt.day\n",
    "df['hour'] = df['datetime'].dt.hour\n",
    "df['minute'] = df['datetime'].dt.minute\n",
    "df['second'] = df['datetime'].dt.second\n",
    "df.set_index('datetime', inplace=True)\n",
    "print(df.head())\n",
    "print('')\n",
    "print(df.tail())"
   ]
  },
  {
   "cell_type": "markdown",
   "metadata": {},
   "source": [
    "Cоздать новую колонку дневное время\n",
    "- присвоить конкретное значение времени суток, если час находится в определенном интервале, например, полдень, если час больше 11 и меньше или равен 17\n",
    "- 0 – 3.59 ночь, 4 – 6.59 раннее утро, 7 – 10.59 утро, 11 – 16.59 день, 17 – 19.59 ранний вечер, 20 – 23.59 вечер\n",
    "- используйте метод cut для решения этой подзадачи\n",
    "- назначить столбец user в качестве индекса"
   ]
  },
  {
   "cell_type": "code",
   "execution_count": 3,
   "metadata": {},
   "outputs": [
    {
     "name": "stdout",
     "output_type": "stream",
     "text": [
      "        year  month  day  hour  minute  second    daytime\n",
      "user                                                     \n",
      "artem   2020      4   17    12       1       8  afternoon\n",
      "artem   2020      4   17    12       1      23  afternoon\n",
      "artem   2020      4   17    12      35      52  afternoon\n",
      "oksana  2020      4   17    12      36      21  afternoon\n",
      "oksana  2020      4   17    12      36      22  afternoon\n",
      "\n",
      "           year  month  day  hour  minute  second        daytime\n",
      "user                                                            \n",
      "ekaterina  2020      5   21    16      36      40      afternoon\n",
      "maxim      2020      5   21    17      49      36  early evening\n",
      "valentina  2020      5   21    18      45      20  early evening\n",
      "maxim      2020      5   21    23       3       6        evening\n",
      "pavel      2020      5   21    23      23      49        evening\n"
     ]
    }
   ],
   "source": [
    "times = [-1, 3.99, 6.99, 10.99, 16.99, 19.99, 23.99]\n",
    "times_str = ['night', 'early morning', 'morning', 'afternoon', 'early evening', 'evening']\n",
    "df['daytime'] = pd.cut(df['hour'], bins=times, labels=times_str, right=True)\n",
    "df.set_index('user', inplace=True)\n",
    "print(df.head())\n",
    "print('')\n",
    "print(df.tail())"
   ]
  },
  {
   "cell_type": "markdown",
   "metadata": {},
   "source": [
    "Подсчитайте количество элементов в вашем фрейме данных\n",
    "- используйте метод count()\n",
    "- подсчитать количество элементов в каждой категории времени суток, используя метод value_counts()"
   ]
  },
  {
   "cell_type": "code",
   "execution_count": 4,
   "metadata": {},
   "outputs": [
    {
     "name": "stdout",
     "output_type": "stream",
     "text": [
      "year       1072\n",
      "month      1072\n",
      "day        1072\n",
      "hour       1072\n",
      "minute     1072\n",
      "second     1072\n",
      "daytime    1072\n",
      "dtype: int64\n",
      " \n",
      "daytime\n",
      "evening          508\n",
      "afternoon        250\n",
      "early evening    145\n",
      "night            129\n",
      "morning           35\n",
      "early morning      5\n",
      "Name: count, dtype: int64\n"
     ]
    }
   ],
   "source": [
    "daytime_count = df.count()\n",
    "daytime_counts = df['daytime'].value_counts()\n",
    "print(daytime_count)\n",
    "print(' ')\n",
    "print(daytime_counts)"
   ]
  },
  {
   "cell_type": "markdown",
   "metadata": {},
   "source": [
    "Сортировать значения в вашем фрейме данных по часам, минутам и секундам в порядке возрастания"
   ]
  },
  {
   "cell_type": "code",
   "execution_count": 5,
   "metadata": {},
   "outputs": [
    {
     "data": {
      "text/html": [
       "<div>\n",
       "<style scoped>\n",
       "    .dataframe tbody tr th:only-of-type {\n",
       "        vertical-align: middle;\n",
       "    }\n",
       "\n",
       "    .dataframe tbody tr th {\n",
       "        vertical-align: top;\n",
       "    }\n",
       "\n",
       "    .dataframe thead th {\n",
       "        text-align: right;\n",
       "    }\n",
       "</style>\n",
       "<table border=\"1\" class=\"dataframe\">\n",
       "  <thead>\n",
       "    <tr style=\"text-align: right;\">\n",
       "      <th></th>\n",
       "      <th>year</th>\n",
       "      <th>month</th>\n",
       "      <th>day</th>\n",
       "      <th>hour</th>\n",
       "      <th>minute</th>\n",
       "      <th>second</th>\n",
       "      <th>daytime</th>\n",
       "    </tr>\n",
       "    <tr>\n",
       "      <th>user</th>\n",
       "      <th></th>\n",
       "      <th></th>\n",
       "      <th></th>\n",
       "      <th></th>\n",
       "      <th></th>\n",
       "      <th></th>\n",
       "      <th></th>\n",
       "    </tr>\n",
       "  </thead>\n",
       "  <tbody>\n",
       "    <tr>\n",
       "      <th>valentina</th>\n",
       "      <td>2020</td>\n",
       "      <td>5</td>\n",
       "      <td>15</td>\n",
       "      <td>0</td>\n",
       "      <td>0</td>\n",
       "      <td>13</td>\n",
       "      <td>night</td>\n",
       "    </tr>\n",
       "    <tr>\n",
       "      <th>valentina</th>\n",
       "      <td>2020</td>\n",
       "      <td>5</td>\n",
       "      <td>15</td>\n",
       "      <td>0</td>\n",
       "      <td>1</td>\n",
       "      <td>5</td>\n",
       "      <td>night</td>\n",
       "    </tr>\n",
       "    <tr>\n",
       "      <th>pavel</th>\n",
       "      <td>2020</td>\n",
       "      <td>5</td>\n",
       "      <td>12</td>\n",
       "      <td>0</td>\n",
       "      <td>1</td>\n",
       "      <td>27</td>\n",
       "      <td>night</td>\n",
       "    </tr>\n",
       "    <tr>\n",
       "      <th>pavel</th>\n",
       "      <td>2020</td>\n",
       "      <td>5</td>\n",
       "      <td>12</td>\n",
       "      <td>0</td>\n",
       "      <td>1</td>\n",
       "      <td>38</td>\n",
       "      <td>night</td>\n",
       "    </tr>\n",
       "    <tr>\n",
       "      <th>pavel</th>\n",
       "      <td>2020</td>\n",
       "      <td>5</td>\n",
       "      <td>12</td>\n",
       "      <td>0</td>\n",
       "      <td>1</td>\n",
       "      <td>55</td>\n",
       "      <td>night</td>\n",
       "    </tr>\n",
       "    <tr>\n",
       "      <th>...</th>\n",
       "      <td>...</td>\n",
       "      <td>...</td>\n",
       "      <td>...</td>\n",
       "      <td>...</td>\n",
       "      <td>...</td>\n",
       "      <td>...</td>\n",
       "      <td>...</td>\n",
       "    </tr>\n",
       "    <tr>\n",
       "      <th>artem</th>\n",
       "      <td>2020</td>\n",
       "      <td>4</td>\n",
       "      <td>29</td>\n",
       "      <td>23</td>\n",
       "      <td>48</td>\n",
       "      <td>14</td>\n",
       "      <td>evening</td>\n",
       "    </tr>\n",
       "    <tr>\n",
       "      <th>anatoliy</th>\n",
       "      <td>2020</td>\n",
       "      <td>5</td>\n",
       "      <td>9</td>\n",
       "      <td>23</td>\n",
       "      <td>53</td>\n",
       "      <td>55</td>\n",
       "      <td>evening</td>\n",
       "    </tr>\n",
       "    <tr>\n",
       "      <th>pavel</th>\n",
       "      <td>2020</td>\n",
       "      <td>5</td>\n",
       "      <td>9</td>\n",
       "      <td>23</td>\n",
       "      <td>54</td>\n",
       "      <td>54</td>\n",
       "      <td>evening</td>\n",
       "    </tr>\n",
       "    <tr>\n",
       "      <th>valentina</th>\n",
       "      <td>2020</td>\n",
       "      <td>5</td>\n",
       "      <td>14</td>\n",
       "      <td>23</td>\n",
       "      <td>58</td>\n",
       "      <td>56</td>\n",
       "      <td>evening</td>\n",
       "    </tr>\n",
       "    <tr>\n",
       "      <th>alexander</th>\n",
       "      <td>2020</td>\n",
       "      <td>5</td>\n",
       "      <td>14</td>\n",
       "      <td>23</td>\n",
       "      <td>59</td>\n",
       "      <td>38</td>\n",
       "      <td>evening</td>\n",
       "    </tr>\n",
       "  </tbody>\n",
       "</table>\n",
       "<p>1072 rows × 7 columns</p>\n",
       "</div>"
      ],
      "text/plain": [
       "           year  month  day  hour  minute  second  daytime\n",
       "user                                                      \n",
       "valentina  2020      5   15     0       0      13    night\n",
       "valentina  2020      5   15     0       1       5    night\n",
       "pavel      2020      5   12     0       1      27    night\n",
       "pavel      2020      5   12     0       1      38    night\n",
       "pavel      2020      5   12     0       1      55    night\n",
       "...         ...    ...  ...   ...     ...     ...      ...\n",
       "artem      2020      4   29    23      48      14  evening\n",
       "anatoliy   2020      5    9    23      53      55  evening\n",
       "pavel      2020      5    9    23      54      54  evening\n",
       "valentina  2020      5   14    23      58      56  evening\n",
       "alexander  2020      5   14    23      59      38  evening\n",
       "\n",
       "[1072 rows x 7 columns]"
      ]
     },
     "execution_count": 5,
     "metadata": {},
     "output_type": "execute_result"
    }
   ],
   "source": [
    "df_sorted = df.sort_values(by=['hour', 'minute', 'second'], ascending=True)\n",
    "df_sorted"
   ]
  },
  {
   "cell_type": "markdown",
   "metadata": {},
   "source": [
    "Рассчитать минимум и максимум для часов и режим для дневных категорий\n",
    "- вычислить максимальный час для строк, где время суток — ночь\n",
    "- вычислить минимальный час для строк, где время суток — утро\n",
    "- В дополнение к этому, выясните, кто посещал страницу в эти часы (приведите один пример из этого)\n",
    "- рассчитать моду на час и день"
   ]
  },
  {
   "cell_type": "code",
   "execution_count": 6,
   "metadata": {},
   "outputs": [
    {
     "name": "stdout",
     "output_type": "stream",
     "text": [
      "Максимальный час ночью: 3\n"
     ]
    }
   ],
   "source": [
    "max_hour_night = df[df['daytime'] == 'night']['hour'].max()\n",
    "print(f'Максимальный час ночью: {max_hour_night}')"
   ]
  },
  {
   "cell_type": "code",
   "execution_count": 7,
   "metadata": {},
   "outputs": [
    {
     "name": "stdout",
     "output_type": "stream",
     "text": [
      "Минимальный час утром: 8\n"
     ]
    }
   ],
   "source": [
    "min_hour_morning = df[df['daytime'] == 'morning']['hour'].min()\n",
    "print(f'Минимальный час утром: {min_hour_morning}')"
   ]
  },
  {
   "cell_type": "code",
   "execution_count": 8,
   "metadata": {},
   "outputs": [
    {
     "name": "stdout",
     "output_type": "stream",
     "text": [
      "Посещал ночью: konstantin\n",
      "Посещал утром: alexander\n"
     ]
    }
   ],
   "source": [
    "visitors_night = df[(df['daytime'] == 'night') & (df['hour'] == max_hour_night)].index.unique()\n",
    "visitors_morning = df[(df['daytime'] == 'morning') & (df['hour'] == min_hour_morning)].index.unique()\n",
    "print(f'Посещал ночью: {visitors_night[0]}')\n",
    "print(f'Посещал утром: {visitors_morning[0]}')"
   ]
  },
  {
   "cell_type": "code",
   "execution_count": 9,
   "metadata": {},
   "outputs": [
    {
     "name": "stdout",
     "output_type": "stream",
     "text": [
      "Наиболее часто встречающееся время в часах: 22\n",
      "Наиболее часто встречающееся время суток: evening\n"
     ]
    }
   ],
   "source": [
    "mode_hour = df['hour'].mode()[0]\n",
    "mode_daytime = df['daytime'].mode()[0]\n",
    "print(f'Наиболее часто встречающееся время в часах: {mode_hour}')\n",
    "print(f'Наиболее часто встречающееся время суток: {mode_daytime}')"
   ]
  },
  {
   "cell_type": "markdown",
   "metadata": {},
   "source": [
    "Показать 3 самых ранних часа утра и соответствующие им имена пользователей, а также 3 самых поздних часа и имена пользователей с помощью nsmallest() и nlargest()"
   ]
  },
  {
   "cell_type": "code",
   "execution_count": 10,
   "metadata": {},
   "outputs": [
    {
     "name": "stdout",
     "output_type": "stream",
     "text": [
      "Самые ранние утренние часы и пользователи:\n",
      "8 - alexander\n",
      "8 - alexander\n",
      "9 - artem\n",
      "\n",
      "Самые поздние часы и пользователи:\n",
      "23 - konstantin\n",
      "23 - artem\n",
      "23 - artem\n"
     ]
    }
   ],
   "source": [
    "earliest_morning = df[df['daytime'] == 'morning'].nsmallest(3, 'hour')\n",
    "latest_hours = df.nlargest(3, 'hour')\n",
    "earliest_hours_and_users = [(user, hour) for user, hour in zip(earliest_morning.index, earliest_morning['hour'])]\n",
    "latest_hours_and_users = [(user, hour) for user, hour in zip(latest_hours.index, latest_hours['hour'])]\n",
    "\n",
    "print('Самые ранние утренние часы и пользователи:')\n",
    "for user, hour in earliest_hours_and_users:\n",
    "    print(f'{hour} - {user}')\n",
    "\n",
    "print('\\nСамые поздние часы и пользователи:')\n",
    "for user, hour in latest_hours_and_users:\n",
    "    print(f'{hour} - {user}')"
   ]
  },
  {
   "cell_type": "markdown",
   "metadata": {},
   "source": [
    "Используйте метод describe() для получения базовой статистики по столбцам\n",
    "- чтобы узнать, какой интервал посещения страницы является наиболее популярным, рассчитайте межквартильный размах для часа, извлекая значения из результата метода describe() и сохраняя его в переменной iqr"
   ]
  },
  {
   "cell_type": "code",
   "execution_count": 11,
   "metadata": {},
   "outputs": [
    {
     "name": "stdout",
     "output_type": "stream",
     "text": [
      "Мeжквартильный размах (IQR): 9.0\n"
     ]
    }
   ],
   "source": [
    "hour_stats = df['hour'].describe()\n",
    "q3 = hour_stats['75%']\n",
    "q1 = hour_stats['25%']\n",
    "iqr = q3 - q1\n",
    "print(f'Мeжквартильный размах (IQR): {iqr}')"
   ]
  }
 ],
 "metadata": {
  "kernelspec": {
   "display_name": "Python 3",
   "language": "python",
   "name": "python3"
  },
  "language_info": {
   "codemirror_mode": {
    "name": "ipython",
    "version": 3
   },
   "file_extension": ".py",
   "mimetype": "text/x-python",
   "name": "python",
   "nbconvert_exporter": "python",
   "pygments_lexer": "ipython3",
   "version": "3.13.1"
  }
 },
 "nbformat": 4,
 "nbformat_minor": 2
}
