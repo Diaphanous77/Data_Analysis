{
 "cells": [
  {
   "cell_type": "markdown",
   "metadata": {},
   "source": [
    "# Overfitting"
   ]
  },
  {
   "cell_type": "markdown",
   "metadata": {},
   "source": [
    "## 0. Imports"
   ]
  },
  {
   "cell_type": "code",
   "execution_count": 1,
   "metadata": {},
   "outputs": [],
   "source": [
    "import pandas as pd\n",
    "from sklearn.model_selection import train_test_split\n",
    "from sklearn.linear_model import LogisticRegression\n",
    "from sklearn.svm import SVC\n",
    "from sklearn.tree import DecisionTreeClassifier\n",
    "from sklearn.ensemble import RandomForestClassifier\n",
    "from sklearn.metrics import accuracy_score\n",
    "from sklearn.model_selection import cross_val_score\n",
    "from sklearn.ensemble import RandomForestClassifier\n",
    "import numpy as np\n",
    "import joblib\n",
    "import matplotlib.pyplot as plt\n"
   ]
  },
  {
   "cell_type": "markdown",
   "metadata": {},
   "source": [
    "## 1. Preprocessing"
   ]
  },
  {
   "cell_type": "markdown",
   "metadata": {},
   "source": [
    "1. Read the file `dayofweek.csv` to a dataframe.\n",
    "2. Using `train_test_split` with parameters `test_size=0.2`, `random_state=21` get `X_train`, `y_train`, `X_test`, `y_test`.\n",
    "3. Using, for example, `value_counts()` to check if the distribution of classes is similar in train and test.\n",
    "4. Use the additional parameter `stratify=` and check the distribution again, now it should be more or less similar in both datasets."
   ]
  },
  {
   "cell_type": "code",
   "execution_count": 2,
   "metadata": {},
   "outputs": [],
   "source": [
    "data = pd.read_csv('data/dayofweek.csv')"
   ]
  },
  {
   "cell_type": "code",
   "execution_count": 3,
   "metadata": {},
   "outputs": [],
   "source": [
    "X = data.drop(columns=['dayofweek'])\n",
    "y = data['dayofweek']"
   ]
  },
  {
   "cell_type": "code",
   "execution_count": 4,
   "metadata": {},
   "outputs": [],
   "source": [
    "X_train, X_test, y_train, y_test = train_test_split(X, y, test_size=0.2, random_state=21)"
   ]
  },
  {
   "cell_type": "code",
   "execution_count": 5,
   "metadata": {},
   "outputs": [
    {
     "name": "stdout",
     "output_type": "stream",
     "text": [
      "Распределение классов без стратификации:\n",
      "Train: dayofweek\n",
      "3    0.232196\n",
      "6    0.212908\n",
      "1    0.164688\n",
      "5    0.160237\n",
      "2    0.092730\n",
      "0    0.077893\n",
      "4    0.059347\n",
      "Name: proportion, dtype: float64\n",
      "Test: dayofweek\n",
      "3    0.245562\n",
      "6    0.204142\n",
      "5    0.162722\n",
      "1    0.153846\n",
      "0    0.091716\n",
      "4    0.071006\n",
      "2    0.071006\n",
      "Name: proportion, dtype: float64\n"
     ]
    }
   ],
   "source": [
    "print('Распределение классов без стратификации:')\n",
    "print('Train:', y_train.value_counts(normalize=True))\n",
    "print('Test:', y_test.value_counts(normalize=True))"
   ]
  },
  {
   "cell_type": "code",
   "execution_count": 6,
   "metadata": {},
   "outputs": [],
   "source": [
    "X_train, X_test, y_train, y_test = train_test_split(X, y, test_size=0.2, random_state=21, stratify=y)"
   ]
  },
  {
   "cell_type": "code",
   "execution_count": 7,
   "metadata": {},
   "outputs": [
    {
     "name": "stdout",
     "output_type": "stream",
     "text": [
      "\n",
      "Распределение классов со стратификацией:\n",
      "Train: dayofweek\n",
      "3    0.234421\n",
      "6    0.211424\n",
      "1    0.162463\n",
      "5    0.160979\n",
      "2    0.088279\n",
      "0    0.080861\n",
      "4    0.061573\n",
      "Name: proportion, dtype: float64\n",
      "Test: dayofweek\n",
      "3    0.236686\n",
      "6    0.210059\n",
      "1    0.162722\n",
      "5    0.159763\n",
      "2    0.088757\n",
      "0    0.079882\n",
      "4    0.062130\n",
      "Name: proportion, dtype: float64\n"
     ]
    }
   ],
   "source": [
    "print('\\nРаспределение классов со стратификацией:')\n",
    "print('Train:', y_train.value_counts(normalize=True))\n",
    "print('Test:', y_test.value_counts(normalize=True))"
   ]
  },
  {
   "cell_type": "markdown",
   "metadata": {},
   "source": [
    "## 2. Baseline models"
   ]
  },
  {
   "cell_type": "markdown",
   "metadata": {},
   "source": [
    "1. Train exactly the same baseline models from the previous exercise and calculate the accuracies using the test dataset with stratification.\n",
    "2. Did all the models show the similar values of the metric? Which one has the largest difference comparing the current exercise and the previous? Put the answer to the markdown cell in the end of the section."
   ]
  },
  {
   "cell_type": "markdown",
   "metadata": {},
   "source": [
    "### a. Logreg"
   ]
  },
  {
   "cell_type": "code",
   "execution_count": 8,
   "metadata": {},
   "outputs": [
    {
     "name": "stdout",
     "output_type": "stream",
     "text": [
      "Logreg: Accuracy = 0.6272189349112426\n"
     ]
    }
   ],
   "source": [
    "logreg = LogisticRegression(random_state=21)\n",
    "logreg.fit(X_train, y_train)\n",
    "y_pred_logreg = logreg.predict(X_test)\n",
    "accuracy_logreg = accuracy_score(y_test, y_pred_logreg)\n",
    "print(f'Logreg: Accuracy = {accuracy_logreg}')"
   ]
  },
  {
   "cell_type": "markdown",
   "metadata": {},
   "source": [
    "### b. SVM"
   ]
  },
  {
   "cell_type": "code",
   "execution_count": 9,
   "metadata": {},
   "outputs": [
    {
     "name": "stdout",
     "output_type": "stream",
     "text": [
      "SVM: Accuracy = 0.8461538461538461\n"
     ]
    }
   ],
   "source": [
    "svm = SVC(random_state=21)\n",
    "svm.fit(X_train, y_train)\n",
    "y_pred_svm = svm.predict(X_test)\n",
    "accuracy_svm = accuracy_score(y_test, y_pred_svm)\n",
    "print(f'SVM: Accuracy = {accuracy_svm}')"
   ]
  },
  {
   "cell_type": "markdown",
   "metadata": {},
   "source": [
    "### c. Decision tree"
   ]
  },
  {
   "cell_type": "code",
   "execution_count": 10,
   "metadata": {},
   "outputs": [
    {
     "data": {
      "text/plain": [
       "0.8668639053254438"
      ]
     },
     "execution_count": 10,
     "metadata": {},
     "output_type": "execute_result"
    }
   ],
   "source": [
    "decision_tree = DecisionTreeClassifier(random_state=21)\n",
    "decision_tree.fit(X_train, y_train)\n",
    "y_pred_tree = decision_tree.predict(X_test)\n",
    "accuracy_tree = accuracy_score(y_test, y_pred_tree)\n",
    "accuracy_tree"
   ]
  },
  {
   "cell_type": "markdown",
   "metadata": {},
   "source": [
    "### d. Random forest"
   ]
  },
  {
   "cell_type": "code",
   "execution_count": 11,
   "metadata": {},
   "outputs": [
    {
     "name": "stdout",
     "output_type": "stream",
     "text": [
      "Random Forest: Accuracy = 0.9378698224852071\n"
     ]
    }
   ],
   "source": [
    "random_forest = RandomForestClassifier(random_state=21)\n",
    "random_forest.fit(X_train, y_train)\n",
    "y_pred_forest = random_forest.predict(X_test)\n",
    "accuracy_forest = accuracy_score(y_test, y_pred_forest)\n",
    "print(f'Random Forest: Accuracy = {accuracy_forest}')"
   ]
  },
  {
   "cell_type": "code",
   "execution_count": 12,
   "metadata": {},
   "outputs": [
    {
     "name": "stdout",
     "output_type": "stream",
     "text": [
      "0.6272189349112426 - logred\n",
      "0.8461538461538461 - SVM\n",
      "0.8668639053254438 - Decision Tree\n",
      "0.9378698224852071 - Random Forest\n"
     ]
    }
   ],
   "source": [
    "print(f'{accuracy_logreg} - logred')\n",
    "print(f'{accuracy_svm} - SVM')\n",
    "print(f'{accuracy_tree} - Decision Tree')\n",
    "print(f'{accuracy_forest} - Random Forest')"
   ]
  },
  {
   "cell_type": "markdown",
   "metadata": {},
   "source": [
    "random forest"
   ]
  },
  {
   "cell_type": "markdown",
   "metadata": {},
   "source": [
    "## 3. Crossvalidation"
   ]
  },
  {
   "cell_type": "markdown",
   "metadata": {},
   "source": [
    "We could play with parameters of the model trying to achive a better accuracy on the test dataset, but it is a bad practice. It leads us again to overfitting. Test dataset is only for checking quality of a final model.\n",
    "\n",
    "But there is another way of solving the problem – crossvalidation. It does not use test dataset, but creates one more split of train dataset. Again, there are different ways of doing it, but the common thing is that there is a validation dataset that is used for hyperparameters optimization."
   ]
  },
  {
   "cell_type": "markdown",
   "metadata": {},
   "source": [
    "1. Using `cross_val_score` with `cv=10` calculate the mean accuracy and standard deviation for every model that you used before (logreg with `solver='liblinear'`, SVC, decision tree, random forest)."
   ]
  },
  {
   "cell_type": "markdown",
   "metadata": {},
   "source": [
    "### a. Logreg"
   ]
  },
  {
   "cell_type": "code",
   "execution_count": 13,
   "metadata": {},
   "outputs": [
    {
     "name": "stdout",
     "output_type": "stream",
     "text": [
      "Logreg: Mean Accuracy = 0.5905251520176893, Std Dev = 0.022758910083794055\n"
     ]
    }
   ],
   "source": [
    "logreg = LogisticRegression(solver='liblinear', random_state=21)\n",
    "logreg.fit(X_train, y_train)\n",
    "cv_scores_logreg = cross_val_score(logreg, X_train, y_train, cv=10)\n",
    "mean_logreg = np.mean(cv_scores_logreg)\n",
    "std_logreg = np.std(cv_scores_logreg)\n",
    "print(f'Logreg: Mean Accuracy = {mean_logreg}, Std Dev = {std_logreg}')"
   ]
  },
  {
   "cell_type": "markdown",
   "metadata": {},
   "source": [
    "### b. SVM"
   ]
  },
  {
   "cell_type": "code",
   "execution_count": 14,
   "metadata": {},
   "outputs": [
    {
     "name": "stdout",
     "output_type": "stream",
     "text": [
      "SVM: Mean Accuracy = 0.7833333333333333, Std Dev = 0.026300721045753594\n"
     ]
    }
   ],
   "source": [
    "cv_scores_svm = cross_val_score(svm, X_train, y_train, cv=10)\n",
    "mean_svm = np.mean(cv_scores_svm)\n",
    "std_svm = np.std(cv_scores_svm)\n",
    "print(f'SVM: Mean Accuracy = {mean_svm}, Std Dev = {std_svm}')"
   ]
  },
  {
   "cell_type": "markdown",
   "metadata": {},
   "source": [
    "### c. Decision tree"
   ]
  },
  {
   "cell_type": "code",
   "execution_count": 15,
   "metadata": {},
   "outputs": [
    {
     "name": "stdout",
     "output_type": "stream",
     "text": [
      "Decision Tree: Mean Accuracy = 0.8887009397457157, Std Dev = 0.02185758108705732\n"
     ]
    }
   ],
   "source": [
    "cv_scores_tree = cross_val_score(decision_tree, X_train, y_train, cv=10)\n",
    "mean_tree = np.mean(cv_scores_tree)\n",
    "std_tree = np.std(cv_scores_tree)\n",
    "print(f'Decision Tree: Mean Accuracy = {mean_tree}, Std Dev = {std_tree}')"
   ]
  },
  {
   "cell_type": "markdown",
   "metadata": {},
   "source": [
    "### d. Random forest"
   ]
  },
  {
   "cell_type": "code",
   "execution_count": 16,
   "metadata": {},
   "outputs": [
    {
     "name": "stdout",
     "output_type": "stream",
     "text": [
      "Random Forest: Mean Accuracy = 0.9124599226091764, Std Dev = 0.01811475713890213\n"
     ]
    }
   ],
   "source": [
    "cv_scores_forest = cross_val_score(random_forest, X_train, y_train, cv=10)\n",
    "mean_forest = np.mean(cv_scores_forest)\n",
    "std_forest = np.std(cv_scores_forest)\n",
    "print(f'Random Forest: Mean Accuracy = {mean_forest}, Std Dev = {std_forest}')"
   ]
  },
  {
   "cell_type": "code",
   "execution_count": 17,
   "metadata": {},
   "outputs": [
    {
     "name": "stdout",
     "output_type": "stream",
     "text": [
      "Mean = 0.5905251520176893, Std Dev = 0.022758910083794055 - Logreg\n",
      "Mean = 0.7833333333333333, Std Dev = 0.026300721045753594 - SVM\n",
      "Mean = 0.8887009397457157, Std Dev = 0.02185758108705732 - Decision Tree\n",
      "Mean = 0.9124599226091764, Std Dev = 0.01811475713890213 - Random Forest\n"
     ]
    }
   ],
   "source": [
    "print(f'Mean = {mean_logreg}, Std Dev = {std_logreg} - Logreg')\n",
    "print(f'Mean = {mean_svm}, Std Dev = {std_svm} - SVM')\n",
    "print(f'Mean = {mean_tree}, Std Dev = {std_tree} - Decision Tree')\n",
    "print(f'Mean = {mean_forest}, Std Dev = {std_forest} - Random Forest')"
   ]
  },
  {
   "cell_type": "markdown",
   "metadata": {},
   "source": [
    "## 4. Optimization"
   ]
  },
  {
   "cell_type": "markdown",
   "metadata": {},
   "source": [
    "1. Choose the best model and play a little bit with the parameters on cross-validation, find a good enough parameter or a combination of the parameters.\n",
    "2. Calculate the accuracy for the final model on the test dataset.\n",
    "3. Draw a plot that displays the top-10 most  important features for that model.\n",
    "4. Save the model using `joblib`.\n",
    "5. Load the model, make predictions for the test dataset and calculate the accuracy."
   ]
  },
  {
   "cell_type": "code",
   "execution_count": 18,
   "metadata": {},
   "outputs": [
    {
     "name": "stdout",
     "output_type": "stream",
     "text": [
      "финальная точность: 0.8550295857988166\n"
     ]
    }
   ],
   "source": [
    "best_model = RandomForestClassifier(n_estimators=100, max_depth=10, random_state=21)\n",
    "best_model.fit(X_train, y_train)\n",
    "y_pred = best_model.predict(X_test)\n",
    "final_accuracy = accuracy_score(y_test, y_pred)\n",
    "print(f'финальная точность: {final_accuracy}')"
   ]
  },
  {
   "cell_type": "code",
   "execution_count": 19,
   "metadata": {},
   "outputs": [
    {
     "data": {
      "image/png": "[encoded data removed]",
      "text/plain": [
       "<Figure size 640x480 with 1 Axes>"
      ]
     },
     "metadata": {},
     "output_type": "display_data"
    }
   ],
   "source": [
    "importance = best_model.feature_importances_\n",
    "features = X.columns\n",
    "top_indices = np.argsort(importance)[-10:]\n",
    "plt.barh(features[top_indices], importance[top_indices])\n",
    "plt.title('Top 10 Features')\n",
    "plt.show()"
   ]
  },
  {
   "cell_type": "code",
   "execution_count": 21,
   "metadata": {},
   "outputs": [],
   "source": [
    "joblib.dump(best_model, 'data/best_model.pkl')\n",
    "loaded_model = joblib.load('data/best_model.pkl')"
   ]
  },
  {
   "cell_type": "code",
   "execution_count": 22,
   "metadata": {},
   "outputs": [
    {
     "name": "stdout",
     "output_type": "stream",
     "text": [
      "Точность загруженной модели: 0.8550295857988166\n"
     ]
    }
   ],
   "source": [
    "y_loaded_pred = loaded_model.predict(X_test)\n",
    "loaded_accuracy = accuracy_score(y_test, y_loaded_pred)\n",
    "print(f'Точность загруженной модели: {loaded_accuracy}')"
   ]
  }
 ],
 "metadata": {
  "kernelspec": {
   "display_name": "Python 3",
   "language": "python",
   "name": "python3"
  },
  "language_info": {
   "codemirror_mode": {
    "name": "ipython",
    "version": 3
   },
   "file_extension": ".py",
   "mimetype": "text/x-python",
   "name": "python",
   "nbconvert_exporter": "python",
   "pygments_lexer": "ipython3",
   "version": "3.13.1"
  }
 },
 "nbformat": 4,
 "nbformat_minor": 4
}
